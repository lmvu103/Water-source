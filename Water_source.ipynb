{
  "nbformat": 4,
  "nbformat_minor": 0,
  "metadata": {
    "colab": {
      "name": "Water source.ipynb",
      "provenance": [],
      "collapsed_sections": [],
      "mount_file_id": "1Z3jgRDCOWJJmI7s-qx-Q-OeNa-kPg8e6",
      "authorship_tag": "ABX9TyOYebn75v/3z89owwN0xcYD",
      "include_colab_link": true
    },
    "kernelspec": {
      "name": "python3",
      "display_name": "Python 3"
    }
  },
  "cells": [
    {
      "cell_type": "markdown",
      "metadata": {
        "id": "view-in-github",
        "colab_type": "text"
      },
      "source": [
        "<a href=\"https://colab.research.google.com/github/lmvu103/Water-source/blob/main/Water_source.ipynb\" target=\"_parent\"><img src=\"https://colab.research.google.com/assets/colab-badge.svg\" alt=\"Open In Colab\"/></a>"
      ]
    },
    {
      "cell_type": "code",
      "metadata": {
        "id": "Zk7qhd0JlMvI",
        "colab": {
          "base_uri": "https://localhost:8080/",
          "height": 299
        },
        "outputId": "2555473b-d948-4b47-cdd8-b2fe31015f53"
      },
      "source": [
        "#1. Plot data by wells\n",
        "import numpy as np\n",
        "import matplotlib.pyplot as plt\n",
        "import pandas as pd\n",
        "import seaborn as sns\n",
        "\n",
        "dataset='/content/Dataset.csv'\n",
        "df=pd.read_csv(dataset)\n",
        "\n",
        "\n",
        "df['SampleDate'] = pd.to_datetime(df['SampleDate'],format='%m/%d/%Y')\n",
        "#Plot concentration follow wells\n",
        "#print(df.loc[1])\n",
        "data1p=(df[df['Well']=='DD-1P'])\n",
        "data2p=(df[df['Well']=='DD-2P'])\n",
        "data3p=(df[df['Well']=='DD-3P'])\n",
        "data4p=(df[df['Well']=='DD-4P'])\n",
        "data6p=(df[df['Well']=='DD-6P'])\n",
        "data7p=(df[df['Well']=='DD-7P'])\n",
        "data9p=(df[df['Well']=='DD-9P'])\n",
        "\n",
        "#plt.scatter(data1p['SampleDate'],data1p['Cl-'],label='DD-1P')\n",
        "#plt.scatter(data2p['SampleDate'],data2p['Cl-'],label='DD-2P')\n",
        "#plt.scatter(data3p['SampleDate'],data3p['Cl-'],label='DD-3P')\n",
        "#plt.scatter(data4p['SampleDate'],data4p['Cl-'],label='DD-4P')\n",
        "#plt.scatter(data6p['SampleDate'],data6p['Cl-'],label='DD-6P')\n",
        "#plt.scatter(data7p['SampleDate'],data7p['Cl-'],label='DD-7P')\n",
        "plt.scatter(data9p['SampleDate'],data9p['Cl-'],label='DD-9P')\n",
        "plt.title('Cl-')\n",
        "plt.ylabel(\"Concentration\")\n",
        "plt.legend()\n",
        "plt.show"
      ],
      "execution_count": null,
      "outputs": [
        {
          "output_type": "execute_result",
          "data": {
            "text/plain": [
              "<function matplotlib.pyplot.show>"
            ]
          },
          "metadata": {
            "tags": []
          },
          "execution_count": 5
        },
        {
          "output_type": "display_data",
          "data": {
            "image/png": "[encoded data removed]",
            "text/plain": [
              "<Figure size 432x288 with 1 Axes>"
            ]
          },
          "metadata": {
            "tags": [],
            "needs_background": "light"
          }
        }
      ]
    },
    {
      "cell_type": "code",
      "metadata": {
        "colab": {
          "base_uri": "https://localhost:8080/",
          "height": 422
        },
        "id": "Y5WcJAjyMgPx",
        "outputId": "23bc8f1d-341b-4d72-ade0-4c11fd22b479"
      },
      "source": [
        "#2. Classification by PCA \n",
        "import pandas as pd\n",
        "import numpy as np\n",
        "import matplotlib.pyplot as plt\n",
        "import seaborn as sns\n",
        "%matplotlib inline\n",
        "\n",
        "dataset='/content/Dataset_ddmm.csv'\n",
        "df=pd.read_csv(dataset)\n",
        "\n",
        "df=df.iloc[:,4:]\n",
        "from sklearn.preprocessing import StandardScaler\n",
        "scaler = StandardScaler()\n",
        "\n",
        "# Fit vào dữ liệu\n",
        "scaler.fit(df)\n",
        "\n",
        "# Thực hiện transform scale\n",
        "w_data = scaler.transform(df)\n",
        "\n",
        "from sklearn.decomposition import PCA\n",
        "\n",
        "# Khởi tạo đối tượng PCA với số comp = 2\n",
        "my_pca = PCA (n_components = 2 )\n",
        "\n",
        "# Fit vào data\n",
        "my_pca.fit(w_data)\n",
        "\n",
        "# Thực hiện transform \n",
        "w_df = my_pca.transform(w_data)\n",
        "\n",
        "\n",
        "plt.figure(figsize = (10,6))\n",
        "# Thành phần comp số 1\n",
        "pca_1 = w_df[:, 0]\n",
        "# Thành phần comp số 2\n",
        "pca_2 = w_df[:, 1]\n",
        "\n",
        "# Vẽ đồ thị\n",
        "plt.scatter(x=pca_1, y = pca_2, c = df['LSI'])\n",
        "#plt.title('Cl-')\n",
        "plt.ylabel(\"Pc1\")\n",
        "plt.xlabel(\"Pc2\")\n",
        "plt.legend()\n",
        "plt.colorbar();\n",
        "plt.show"
      ],
      "execution_count": null,
      "outputs": [
        {
          "output_type": "stream",
          "text": [
            "No handles with labels found to put in legend.\n"
          ],
          "name": "stderr"
        },
        {
          "output_type": "execute_result",
          "data": {
            "text/plain": [
              "<function matplotlib.pyplot.show>"
            ]
          },
          "metadata": {
            "tags": []
          },
          "execution_count": 1
        },
        {
          "output_type": "display_data",
          "data": {
            "image/png": "[encoded data removed]",
            "text/plain": [
              "<Figure size 720x432 with 2 Axes>"
            ]
          },
          "metadata": {
            "tags": [],
            "needs_background": "light"
          }
        }
      ]
    },
    {
      "cell_type": "code",
      "metadata": {
        "colab": {
          "base_uri": "https://localhost:8080/",
          "height": 316
        },
        "id": "-RwS2XnUvgmo",
        "outputId": "3dde9169-0a80-47cf-8eb7-1269ff9cdc59"
      },
      "source": [
        "#3. Data input\n",
        "dataset='/content/Dataset_ddmm.csv'\n",
        "df=pd.read_csv(dataset)\n",
        "df.describe()"
      ],
      "execution_count": null,
      "outputs": [
        {
          "output_type": "execute_result",
          "data": {
            "text/html": [
              "<div>\n",
              "<style scoped>\n",
              "    .dataframe tbody tr th:only-of-type {\n",
              "        vertical-align: middle;\n",
              "    }\n",
              "\n",
              "    .dataframe tbody tr th {\n",
              "        vertical-align: top;\n",
              "    }\n",
              "\n",
              "    .dataframe thead th {\n",
              "        text-align: right;\n",
              "    }\n",
              "</style>\n",
              "<table border=\"1\" class=\"dataframe\">\n",
              "  <thead>\n",
              "    <tr style=\"text-align: right;\">\n",
              "      <th></th>\n",
              "      <th>WC</th>\n",
              "      <th>pH</th>\n",
              "      <th>Na+</th>\n",
              "      <th>K+</th>\n",
              "      <th>Ca2+</th>\n",
              "      <th>Mg2+</th>\n",
              "      <th>Fe</th>\n",
              "      <th>Cl-</th>\n",
              "      <th>HCO3-</th>\n",
              "      <th>CO32-</th>\n",
              "      <th>OH-</th>\n",
              "      <th>SO42-</th>\n",
              "      <th>LSI</th>\n",
              "      <th>RSI</th>\n",
              "      <th>PSI</th>\n",
              "    </tr>\n",
              "  </thead>\n",
              "  <tbody>\n",
              "    <tr>\n",
              "      <th>count</th>\n",
              "      <td>0.0</td>\n",
              "      <td>26.000000</td>\n",
              "      <td>26.000000</td>\n",
              "      <td>26.000000</td>\n",
              "      <td>26.000000</td>\n",
              "      <td>26.000000</td>\n",
              "      <td>26.000000</td>\n",
              "      <td>26.000000</td>\n",
              "      <td>26.000000</td>\n",
              "      <td>26.000000</td>\n",
              "      <td>26.000000</td>\n",
              "      <td>26.000000</td>\n",
              "      <td>26.000000</td>\n",
              "      <td>26.000000</td>\n",
              "      <td>26.000000</td>\n",
              "    </tr>\n",
              "    <tr>\n",
              "      <th>mean</th>\n",
              "      <td>NaN</td>\n",
              "      <td>7.270769</td>\n",
              "      <td>9397.500000</td>\n",
              "      <td>209.134615</td>\n",
              "      <td>2805.230769</td>\n",
              "      <td>466.503846</td>\n",
              "      <td>1.853077</td>\n",
              "      <td>19726.615385</td>\n",
              "      <td>461.769231</td>\n",
              "      <td>17.703846</td>\n",
              "      <td>0.026923</td>\n",
              "      <td>207.507692</td>\n",
              "      <td>2.029615</td>\n",
              "      <td>3.210769</td>\n",
              "      <td>2.164615</td>\n",
              "    </tr>\n",
              "    <tr>\n",
              "      <th>std</th>\n",
              "      <td>NaN</td>\n",
              "      <td>0.854606</td>\n",
              "      <td>2325.755916</td>\n",
              "      <td>50.867718</td>\n",
              "      <td>1289.627243</td>\n",
              "      <td>443.138140</td>\n",
              "      <td>1.130482</td>\n",
              "      <td>1210.880674</td>\n",
              "      <td>213.542185</td>\n",
              "      <td>48.104449</td>\n",
              "      <td>0.045234</td>\n",
              "      <td>285.153331</td>\n",
              "      <td>0.635519</td>\n",
              "      <td>0.525600</td>\n",
              "      <td>0.819054</td>\n",
              "    </tr>\n",
              "    <tr>\n",
              "      <th>min</th>\n",
              "      <td>NaN</td>\n",
              "      <td>5.560000</td>\n",
              "      <td>6924.000000</td>\n",
              "      <td>144.000000</td>\n",
              "      <td>914.000000</td>\n",
              "      <td>132.000000</td>\n",
              "      <td>0.100000</td>\n",
              "      <td>18024.000000</td>\n",
              "      <td>175.000000</td>\n",
              "      <td>0.000000</td>\n",
              "      <td>0.000000</td>\n",
              "      <td>36.400000</td>\n",
              "      <td>0.700000</td>\n",
              "      <td>2.190000</td>\n",
              "      <td>1.190000</td>\n",
              "    </tr>\n",
              "    <tr>\n",
              "      <th>25%</th>\n",
              "      <td>NaN</td>\n",
              "      <td>7.125000</td>\n",
              "      <td>8154.500000</td>\n",
              "      <td>172.175000</td>\n",
              "      <td>1406.250000</td>\n",
              "      <td>153.500000</td>\n",
              "      <td>0.665000</td>\n",
              "      <td>18997.000000</td>\n",
              "      <td>286.750000</td>\n",
              "      <td>0.000000</td>\n",
              "      <td>0.000000</td>\n",
              "      <td>70.625000</td>\n",
              "      <td>1.697500</td>\n",
              "      <td>2.807500</td>\n",
              "      <td>1.332500</td>\n",
              "    </tr>\n",
              "    <tr>\n",
              "      <th>50%</th>\n",
              "      <td>NaN</td>\n",
              "      <td>7.245000</td>\n",
              "      <td>8543.500000</td>\n",
              "      <td>184.000000</td>\n",
              "      <td>3194.000000</td>\n",
              "      <td>310.250000</td>\n",
              "      <td>2.000000</td>\n",
              "      <td>19541.000000</td>\n",
              "      <td>369.000000</td>\n",
              "      <td>0.000000</td>\n",
              "      <td>0.000000</td>\n",
              "      <td>93.000000</td>\n",
              "      <td>2.045000</td>\n",
              "      <td>3.310000</td>\n",
              "      <td>2.355000</td>\n",
              "    </tr>\n",
              "    <tr>\n",
              "      <th>75%</th>\n",
              "      <td>NaN</td>\n",
              "      <td>7.367500</td>\n",
              "      <td>11562.750000</td>\n",
              "      <td>237.750000</td>\n",
              "      <td>3505.000000</td>\n",
              "      <td>438.350000</td>\n",
              "      <td>2.705000</td>\n",
              "      <td>20521.000000</td>\n",
              "      <td>619.000000</td>\n",
              "      <td>0.075000</td>\n",
              "      <td>0.075000</td>\n",
              "      <td>133.350000</td>\n",
              "      <td>2.395000</td>\n",
              "      <td>3.532500</td>\n",
              "      <td>2.760000</td>\n",
              "    </tr>\n",
              "    <tr>\n",
              "      <th>max</th>\n",
              "      <td>NaN</td>\n",
              "      <td>8.810000</td>\n",
              "      <td>17086.000000</td>\n",
              "      <td>324.000000</td>\n",
              "      <td>4712.000000</td>\n",
              "      <td>1816.000000</td>\n",
              "      <td>3.460000</td>\n",
              "      <td>22217.000000</td>\n",
              "      <td>824.000000</td>\n",
              "      <td>200.000000</td>\n",
              "      <td>0.100000</td>\n",
              "      <td>1304.000000</td>\n",
              "      <td>3.310000</td>\n",
              "      <td>4.220000</td>\n",
              "      <td>3.650000</td>\n",
              "    </tr>\n",
              "  </tbody>\n",
              "</table>\n",
              "</div>"
            ],
            "text/plain": [
              "        WC         pH           Na+  ...        LSI        RSI        PSI\n",
              "count  0.0  26.000000     26.000000  ...  26.000000  26.000000  26.000000\n",
              "mean   NaN   7.270769   9397.500000  ...   2.029615   3.210769   2.164615\n",
              "std    NaN   0.854606   2325.755916  ...   0.635519   0.525600   0.819054\n",
              "min    NaN   5.560000   6924.000000  ...   0.700000   2.190000   1.190000\n",
              "25%    NaN   7.125000   8154.500000  ...   1.697500   2.807500   1.332500\n",
              "50%    NaN   7.245000   8543.500000  ...   2.045000   3.310000   2.355000\n",
              "75%    NaN   7.367500  11562.750000  ...   2.395000   3.532500   2.760000\n",
              "max    NaN   8.810000  17086.000000  ...   3.310000   4.220000   3.650000\n",
              "\n",
              "[8 rows x 15 columns]"
            ]
          },
          "metadata": {
            "tags": []
          },
          "execution_count": 62
        }
      ]
    },
    {
      "cell_type": "code",
      "metadata": {
        "id": "rBpRsY67MVMa"
      },
      "source": [
        "#4. Plit data train\n",
        "import pandas as pd\n",
        "import numpy as np\n",
        "import matplotlib.pyplot as plt\n",
        "import seaborn as sns\n",
        "%matplotlib inline\n",
        "\n",
        "\n",
        "dataset='/content/Dataset_ddmm.csv'\n",
        "df=pd.read_csv(dataset)\n",
        "\n",
        "from sklearn.model_selection import train_test_split\n",
        "predictors = ['pH', 'Na+', 'K+', 'Ca2+','Mg2+','Fe','Cl-', 'CO32-','SO42-','CO32-']\n",
        "X = df[predictors]\n",
        "y = df['LSI']\n",
        "\n",
        "X_train, X_test, y_train, y_test = train_test_split(\n",
        "        X, y, test_size=0.2, random_state=1)"
      ],
      "execution_count": null,
      "outputs": []
    },
    {
      "cell_type": "code",
      "metadata": {
        "colab": {
          "base_uri": "https://localhost:8080/",
          "height": 296
        },
        "id": "T4tT4Gpaew_1",
        "outputId": "95f2de60-419a-4212-8b2f-c528042da8e8"
      },
      "source": [
        "# Importing ML models\n",
        "from sklearn.linear_model import LinearRegression\n",
        "from sklearn.tree import DecisionTreeRegressor\n",
        "from sklearn.ensemble import RandomForestRegressor\n",
        "\n",
        "# Importing preprocessing functionalities\n",
        "from sklearn.preprocessing import StandardScaler\n",
        "from sklearn.pipeline import Pipeline\n",
        "\n",
        "# Importing metrics\n",
        "from sklearn.metrics import mean_squared_error\n",
        "\n",
        "\n",
        "pipemodel = Pipeline([\n",
        "    ('scl', StandardScaler()),\n",
        "    ('reg', LinearRegression())\n",
        "])\n",
        "\n",
        "pipemodel.fit(X_train, y_train)\n",
        "\n",
        "\n",
        "scale_test = pipemodel.predict(X_test)\n",
        "scale_train = pipemodel.predict(X_train)\n",
        "\n",
        "plt.scatter(scale_train, y_train)\n",
        "plt.xlabel('LSI_train')\n",
        "plt.ylabel('LSI_data')"
      ],
      "execution_count": null,
      "outputs": [
        {
          "output_type": "execute_result",
          "data": {
            "text/plain": [
              "Text(0, 0.5, 'LSI_data')"
            ]
          },
          "metadata": {
            "tags": []
          },
          "execution_count": 52
        },
        {
          "output_type": "display_data",
          "data": {
            "image/png": "[encoded data removed]",
            "text/plain": [
              "<Figure size 432x288 with 1 Axes>"
            ]
          },
          "metadata": {
            "tags": [],
            "needs_background": "light"
          }
        }
      ]
    },
    {
      "cell_type": "code",
      "metadata": {
        "colab": {
          "base_uri": "https://localhost:8080/",
          "height": 296
        },
        "id": "QAP5F58PhB29",
        "outputId": "16abbd99-2c69-42ef-c014-0369a320a805"
      },
      "source": [
        "plt.scatter(scale_test, y_test)\n",
        "plt.xlabel('LSI_test')\n",
        "plt.ylabel('LSI_data')"
      ],
      "execution_count": null,
      "outputs": [
        {
          "output_type": "execute_result",
          "data": {
            "text/plain": [
              "Text(0, 0.5, 'LSI_data')"
            ]
          },
          "metadata": {
            "tags": []
          },
          "execution_count": 32
        },
        {
          "output_type": "display_data",
          "data": {
            "image/png": "[encoded data removed]",
            "text/plain": [
              "<Figure size 432x288 with 1 Axes>"
            ]
          },
          "metadata": {
            "tags": [],
            "needs_background": "light"
          }
        }
      ]
    },
    {
      "cell_type": "markdown",
      "metadata": {
        "id": "m2Dmh_t-PNuQ"
      },
      "source": [
        "Running LinearRegression, Decision Trees and Random Forest"
      ]
    },
    {
      "cell_type": "code",
      "metadata": {
        "id": "ZYvE9RsGcZmR"
      },
      "source": [
        "#4. Plit data train\n",
        "import pandas as pd\n",
        "import numpy as np\n",
        "import matplotlib.pyplot as plt\n",
        "import seaborn as sns\n",
        "%matplotlib inline\n",
        "\n",
        "\n",
        "dataset='/content/Dataset_ddmm.csv'\n",
        "df=pd.read_csv(dataset)\n",
        "\n",
        "from sklearn.model_selection import train_test_split\n",
        "predictors = ['pH', 'Na+', 'K+', 'Ca2+','Mg2+','Fe','Cl-', 'HCO3- ','SO42-','CO32-']\n",
        "X = df[predictors]\n",
        "y = df['LSI']\n",
        "\n",
        "X_train, X_test, y_train, y_test = train_test_split(\n",
        "        X, y, test_size=0.2, random_state=1)"
      ],
      "execution_count": null,
      "outputs": []
    },
    {
      "cell_type": "code",
      "metadata": {
        "id": "rk8zmnlePn4m"
      },
      "source": [
        "def genericml(model):\n",
        "    pipemodel = Pipeline([\n",
        "        ('scl', StandardScaler()),\n",
        "        ('reg', model)\n",
        "    ])\n",
        "    pipemodel.fit(X_train, y_train)\n",
        "    print(f'Training accuracy {pipemodel.score(X_train, y_train)}')\n",
        "    print(f'Test accuracy {pipemodel.score(X_test, y_test)}')\n",
        "    scale_test = pipemodel.predict(X_test)\n",
        "    scale_train = pipemodel.predict(X_train)\n",
        "    plt.scatter(scale_train, y_train)\n",
        "    plt.xlabel('LSI_train')\n",
        "    plt.ylabel('LSI_data')\n",
        "    \n",
        "    return pipemodel\n",
        "\n",
        "def plotter(model, modelname):\n",
        "#wellnames = df['Well'].unique()\n",
        "  fig, ax = plt.subplots(4,2, figsize=(20,20))\n",
        "  row = [0, 0, 1, 1, 2, 2, 3, 3]\n",
        "  col = [0, 1, 0, 1, 0, 1, 0, 1]\n",
        "  df['modelname'] = model.predict(df[predictors])\n",
        "  for i, well in enumerate(wellnames):\n",
        "    dfpred = df[df['Well']==well]\n",
        "    #print(dfpred.shape)\n",
        "    #plt.figure(figsize=(15,8))\n",
        "    ax[row[i], col[i]].scatter(dfpred['Sample date'], dfpred['LSI'])\n",
        "    ax[row[i], col[i]].set_title(well)\n",
        "    ax[row[i], col[i]].set_ylabel('LSI')\n",
        "    ax[row[i], col[i]].plot(dfpred['Sample date'], dfpred['modelname'], color='green')\n",
        "    #plt.plot(dfpred['dates'], dfpred['bhp_Random_Forest'], color='green')\n",
        "    plt.xlabel('LSI_pre')\n",
        "    plt.ylabel('LSI_data')\n",
        "plt.show();"
      ],
      "execution_count": null,
      "outputs": []
    },
    {
      "cell_type": "code",
      "metadata": {
        "colab": {
          "base_uri": "https://localhost:8080/",
          "height": 1000
        },
        "id": "jbd8z7ljPa3F",
        "outputId": "6f36ee74-ceab-455f-cafe-4c96f6d127cb"
      },
      "source": [
        "import pandas as pd\n",
        "import numpy as np\n",
        "import matplotlib.pyplot as plt\n",
        "import seaborn as sns\n",
        "# Importing ML models\n",
        "from sklearn.linear_model import LinearRegression\n",
        "from sklearn.tree import DecisionTreeRegressor\n",
        "from sklearn.ensemble import RandomForestRegressor\n",
        "from sklearn.neighbors import KNeighborsRegressor\n",
        "from sklearn.naive_bayes import GaussianNB\n",
        "from sklearn.svm import SVR\n",
        "\n",
        "# Importing preprocessing functionalities\n",
        "from sklearn.preprocessing import StandardScaler\n",
        "from sklearn.pipeline import Pipeline\n",
        "\n",
        "\n",
        "# Importing metrics\n",
        "from sklearn.metrics import mean_squared_error\n",
        "\n",
        "\n",
        "dataset='/content/Dataset_ddmm.csv'\n",
        "df=pd.read_csv(dataset)\n",
        "\n",
        "wellnames = df['Well'].unique()\n",
        "# Continoeus data\n",
        "rf = RandomForestRegressor()\n",
        "dt = DecisionTreeRegressor()\n",
        "ln= LinearRegression()\n",
        "svr = SVR(kernel = 'rbf')\n",
        "kn = KNeighborsRegressor()\n",
        "# Discret data\n",
        "gs = GaussianNB()\n",
        "svm = GaussianNB()\n",
        "\n",
        "dtree_reg = genericml(ln)\n",
        "\n",
        "plotter(dtree_reg, \"LSI_2\")"
      ],
      "execution_count": null,
      "outputs": [
        {
          "output_type": "stream",
          "text": [
            "Training accuracy 0.998495710098315\n",
            "Test accuracy 0.9953721068897758\n"
          ],
          "name": "stdout"
        },
        {
          "output_type": "display_data",
          "data": {
            "image/png": "[encoded data removed]",
            "text/plain": [
              "<Figure size 432x288 with 1 Axes>"
            ]
          },
          "metadata": {
            "tags": [],
            "needs_background": "light"
          }
        },
        {
          "output_type": "display_data",
          "data": {
            "image/png": "[encoded data removed]",
            "text/plain": [
              "<Figure size 1440x1440 with 8 Axes>"
            ]
          },
          "metadata": {
            "tags": [],
            "needs_background": "light"
          }
        }
      ]
    },
    {
      "cell_type": "markdown",
      "metadata": {
        "id": "-ViefhjPPQfg"
      },
      "source": [
        "Running ANN\n",
        "\n",
        "\n",
        "\n"
      ]
    },
    {
      "cell_type": "code",
      "metadata": {
        "colab": {
          "base_uri": "https://localhost:8080/",
          "height": 204
        },
        "id": "FFVAdAcoGUah",
        "outputId": "1441c31b-d2bf-444b-9e94-512941fa506d"
      },
      "source": [
        "df.head()"
      ],
      "execution_count": null,
      "outputs": [
        {
          "output_type": "execute_result",
          "data": {
            "text/html": [
              "<div>\n",
              "<style scoped>\n",
              "    .dataframe tbody tr th:only-of-type {\n",
              "        vertical-align: middle;\n",
              "    }\n",
              "\n",
              "    .dataframe tbody tr th {\n",
              "        vertical-align: top;\n",
              "    }\n",
              "\n",
              "    .dataframe thead th {\n",
              "        text-align: right;\n",
              "    }\n",
              "</style>\n",
              "<table border=\"1\" class=\"dataframe\">\n",
              "  <thead>\n",
              "    <tr style=\"text-align: right;\">\n",
              "      <th></th>\n",
              "      <th>Reservoir</th>\n",
              "      <th>Well</th>\n",
              "      <th>Sample date</th>\n",
              "      <th>WC</th>\n",
              "      <th>pH</th>\n",
              "      <th>Na+</th>\n",
              "      <th>K+</th>\n",
              "      <th>Ca2+</th>\n",
              "      <th>Mg2+</th>\n",
              "      <th>Fe</th>\n",
              "      <th>Cl-</th>\n",
              "      <th>HCO3-</th>\n",
              "      <th>CO32-</th>\n",
              "      <th>OH-</th>\n",
              "      <th>SO42-</th>\n",
              "      <th>LSI</th>\n",
              "      <th>RSI</th>\n",
              "      <th>PSI</th>\n",
              "    </tr>\n",
              "  </thead>\n",
              "  <tbody>\n",
              "    <tr>\n",
              "      <th>0</th>\n",
              "      <td>BII220</td>\n",
              "      <td>DD-1P</td>\n",
              "      <td>11/1/2020</td>\n",
              "      <td>NaN</td>\n",
              "      <td>8.64</td>\n",
              "      <td>11726</td>\n",
              "      <td>171.6</td>\n",
              "      <td>1045</td>\n",
              "      <td>424.4</td>\n",
              "      <td>0.10</td>\n",
              "      <td>21589</td>\n",
              "      <td>220</td>\n",
              "      <td>100.0</td>\n",
              "      <td>0.1</td>\n",
              "      <td>489.0</td>\n",
              "      <td>2.99</td>\n",
              "      <td>2.66</td>\n",
              "      <td>3.04</td>\n",
              "    </tr>\n",
              "    <tr>\n",
              "      <th>1</th>\n",
              "      <td>BII220</td>\n",
              "      <td>DD-2P</td>\n",
              "      <td>11/22/2014</td>\n",
              "      <td>NaN</td>\n",
              "      <td>5.56</td>\n",
              "      <td>7112</td>\n",
              "      <td>188.0</td>\n",
              "      <td>4524</td>\n",
              "      <td>140.0</td>\n",
              "      <td>3.34</td>\n",
              "      <td>18412</td>\n",
              "      <td>601</td>\n",
              "      <td>0.0</td>\n",
              "      <td>0.0</td>\n",
              "      <td>40.1</td>\n",
              "      <td>0.70</td>\n",
              "      <td>4.15</td>\n",
              "      <td>1.23</td>\n",
              "    </tr>\n",
              "    <tr>\n",
              "      <th>2</th>\n",
              "      <td>BII220</td>\n",
              "      <td>DD-2P</td>\n",
              "      <td>11/1/2020</td>\n",
              "      <td>NaN</td>\n",
              "      <td>8.11</td>\n",
              "      <td>11568</td>\n",
              "      <td>167.8</td>\n",
              "      <td>1051</td>\n",
              "      <td>412.1</td>\n",
              "      <td>0.20</td>\n",
              "      <td>20965</td>\n",
              "      <td>330</td>\n",
              "      <td>0.1</td>\n",
              "      <td>0.1</td>\n",
              "      <td>463.5</td>\n",
              "      <td>2.35</td>\n",
              "      <td>3.40</td>\n",
              "      <td>3.41</td>\n",
              "    </tr>\n",
              "    <tr>\n",
              "      <th>3</th>\n",
              "      <td>BII220</td>\n",
              "      <td>DD-3P</td>\n",
              "      <td>11/28/2014</td>\n",
              "      <td>NaN</td>\n",
              "      <td>6.86</td>\n",
              "      <td>8332</td>\n",
              "      <td>144.0</td>\n",
              "      <td>3365</td>\n",
              "      <td>136.0</td>\n",
              "      <td>1.90</td>\n",
              "      <td>19122</td>\n",
              "      <td>354</td>\n",
              "      <td>0.0</td>\n",
              "      <td>0.0</td>\n",
              "      <td>114.0</td>\n",
              "      <td>1.64</td>\n",
              "      <td>3.57</td>\n",
              "      <td>2.28</td>\n",
              "    </tr>\n",
              "    <tr>\n",
              "      <th>4</th>\n",
              "      <td>BII220</td>\n",
              "      <td>DD-3P</td>\n",
              "      <td>11/27/2014</td>\n",
              "      <td>NaN</td>\n",
              "      <td>7.24</td>\n",
              "      <td>8314</td>\n",
              "      <td>256.0</td>\n",
              "      <td>2511</td>\n",
              "      <td>1123.0</td>\n",
              "      <td>2.76</td>\n",
              "      <td>19112</td>\n",
              "      <td>712</td>\n",
              "      <td>0.0</td>\n",
              "      <td>0.0</td>\n",
              "      <td>98.0</td>\n",
              "      <td>2.20</td>\n",
              "      <td>2.84</td>\n",
              "      <td>1.49</td>\n",
              "    </tr>\n",
              "  </tbody>\n",
              "</table>\n",
              "</div>"
            ],
            "text/plain": [
              "  Reservoir   Well Sample date  WC    pH  ...  OH-  SO42-   LSI   RSI   PSI\n",
              "0    BII220  DD-1P   11/1/2020 NaN  8.64  ...  0.1  489.0  2.99  2.66  3.04\n",
              "1    BII220  DD-2P  11/22/2014 NaN  5.56  ...  0.0   40.1  0.70  4.15  1.23\n",
              "2    BII220  DD-2P   11/1/2020 NaN  8.11  ...  0.1  463.5  2.35  3.40  3.41\n",
              "3    BII220  DD-3P  11/28/2014 NaN  6.86  ...  0.0  114.0  1.64  3.57  2.28\n",
              "4    BII220  DD-3P  11/27/2014 NaN  7.24  ...  0.0   98.0  2.20  2.84  1.49\n",
              "\n",
              "[5 rows x 18 columns]"
            ]
          },
          "metadata": {
            "tags": []
          },
          "execution_count": 24
        }
      ]
    },
    {
      "cell_type": "code",
      "metadata": {
        "id": "rz4MiJzG8wYp"
      },
      "source": [
        "df_scaled"
      ],
      "execution_count": null,
      "outputs": []
    },
    {
      "cell_type": "code",
      "metadata": {
        "id": "i5Jzh3lX3g_p"
      },
      "source": [
        "# running an ANN\n",
        "import pandas as pd\n",
        "import numpy as np\n",
        "import matplotlib.pyplot as plt\n",
        "import seaborn as sns\n",
        "%matplotlib inline\n",
        "from tensorflow.keras.models import Sequential\n",
        "from sklearn import preprocessing\n",
        "from tensorflow.keras.layers import Dense, Dropout, BatchNormalization\n",
        "from tensorflow.keras import optimizers\n",
        "\n",
        "dataset='/content/Dataset_ddmm.csv'\n",
        "\n",
        "df=pd.read_csv(dataset)\n",
        "\n",
        "\n",
        "from sklearn.model_selection import train_test_split\n",
        "predictors = ['pH', 'Na+', 'K+', 'Ca2+','Mg2+','Fe','Cl-', 'HCO3- ','SO42-','CO32-']\n",
        "X = df[predictors]\n",
        "y = df['LSI']\n",
        "\n",
        "\n",
        "\n",
        "X_train, X_test, y_train, y_test = train_test_split(X, y, test_size=0.3, random_state=1)\n",
        "\n",
        "model = Sequential()\n",
        "model.add(Dense(32, input_shape = (len(predictors),), activation = 'sigmoid'))\n",
        "model.add(Dense(32, activation = 'relu'))\n",
        "model.add(Dense(1))\n",
        "sgd = optimizers.Adam(lr = 0.001)\n",
        "\n",
        "model.compile(optimizer = sgd, loss = 'mse', metrics=['mae'])\n",
        "\n",
        "train_model=model.fit(X_train, y_train, batch_size = 1, epochs = 100, verbose = 1,validation_data=(X_test, y_test))\n",
        "\n"
      ],
      "execution_count": null,
      "outputs": []
    },
    {
      "cell_type": "code",
      "metadata": {
        "id": "WJHQvokZxvhK"
      },
      "source": [
        "print(w_data)"
      ],
      "execution_count": null,
      "outputs": []
    },
    {
      "cell_type": "code",
      "metadata": {
        "id": "rELxwZK94Cf7"
      },
      "source": [
        "df['LSI_ANN'] = model.predict(df[predictors])\n",
        "\n",
        "\n",
        "# Q. Evalutae the model\n",
        "## Start code here\n",
        "model.evaluate(X_train, y_train)\n",
        "\n",
        "#Plot Loss\n",
        "plt.plot(train_model.history['loss'])\n",
        "plt.plot(train_model.history['val_loss'])\n",
        "plt.title('Model Loss')\n",
        "plt.ylabel('Loss')\n",
        "plt.xlabel('Epoch')\n",
        "plt.legend(['Train', 'Val'], loc='lower right')\n",
        "\n",
        "#Plot Accuracy\n",
        "#plt.plot(train_model.history['accuracy'])\n",
        "#plt.plot(train_model.history['val_accuracy'])\n",
        "#plt.title('Model Accuracy')\n",
        "#plt.ylabel('Acc')\n",
        "#plt.xlabel('Epoch')\n",
        "#plt.legend(['Train', 'Val'], loc='lower right')\n",
        "\n",
        "wellnames = df['Well'].unique()\n",
        "\n",
        "fig, ax = plt.subplots(4,2, figsize=(20,20))\n",
        "row = [0, 0, 1, 1, 2, 2,3,3]\n",
        "col = [0, 1, 0, 1, 0,1,0,1]\n",
        "df['LSI_2'] = model.predict(df[predictors])\n",
        "for i, well in enumerate(wellnames):\n",
        "    dfpred = df[df['Well']==well]\n",
        "    #print(dfpred.shape)\n",
        "    #plt.figure(figsize=(15,8))\n",
        "    ax[row[i], col[i]].scatter(dfpred['Sample date'], dfpred['LSI'])\n",
        "    ax[row[i], col[i]].plot(dfpred['Sample date'], dfpred['LSI_2'], color='green')\n",
        "    ax[row[i], col[i]].set_title(well)\n",
        "    ax[row[i], col[i]].set_ylabel('LSI')\n",
        "    ax[row[i], col[i]].legend(['Train', 'Val'], loc='lower right')\n",
        "    #plt.plot(dfpred['dates'], dfpred['bhp_Random_Forest'], color='green')\n",
        "plt.show();"
      ],
      "execution_count": null,
      "outputs": []
    }
  ]
}